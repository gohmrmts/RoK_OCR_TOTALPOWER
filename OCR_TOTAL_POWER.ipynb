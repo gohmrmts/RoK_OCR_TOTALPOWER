{
  "nbformat": 4,
  "nbformat_minor": 0,
  "metadata": {
    "colab": {
      "name": "OCR_TOTAL POWER.ipynb",
      "provenance": [],
      "collapsed_sections": [],
      "authorship_tag": "ABX9TyO8peYsXQxxjtMpmXdP1ggu"
    },
    "kernelspec": {
      "name": "python3",
      "display_name": "Python 3"
    },
    "language_info": {
      "name": "python"
    }
  },
  "cells": [
    {
      "cell_type": "code",
      "execution_count": null,
      "metadata": {
        "colab": {
          "base_uri": "https://localhost:8080/"
        },
        "id": "phV5Ylq5AkTK",
        "outputId": "81fd0ee8-c4af-437c-98ab-9e529b6afbee"
      },
      "outputs": [
        {
          "output_type": "stream",
          "name": "stdout",
          "text": [
            "Reading package lists... Done\n",
            "Building dependency tree       \n",
            "Reading state information... Done\n",
            "libtesseract-dev is already the newest version (4.00~git2288-10f4998a-2).\n",
            "tesseract-ocr is already the newest version (4.00~git2288-10f4998a-2).\n",
            "tesseract-ocr-jpn is already the newest version (4.00~git24-0e00fe6-1.2).\n",
            "The following package was automatically installed and is no longer required:\n",
            "  libnvidia-common-460\n",
            "Use 'apt autoremove' to remove it.\n",
            "0 upgraded, 0 newly installed, 0 to remove and 49 not upgraded.\n",
            "Looking in indexes: https://pypi.org/simple, https://us-python.pkg.dev/colab-wheels/public/simple/\n",
            "Requirement already satisfied: pyocr in /usr/local/lib/python3.7/dist-packages (0.8.2)\n",
            "Requirement already satisfied: Pillow in /usr/local/lib/python3.7/dist-packages (from pyocr) (7.1.2)\n",
            "Looking in indexes: https://pypi.org/simple, https://us-python.pkg.dev/colab-wheels/public/simple/\n",
            "Requirement already satisfied: Pillow in /usr/local/lib/python3.7/dist-packages (7.1.2)\n"
          ]
        }
      ],
      "source": [
        " !apt install tesseract-ocr libtesseract-dev tesseract-ocr-jpn\n",
        " !pip install pyocr\n",
        " !pip install Pillow"
      ]
    },
    {
      "cell_type": "code",
      "source": [
        "# -*- coding: utf-8 -*-\n",
        "import sys\n",
        "from PIL import Image, ImageOps\n",
        "import os\n",
        "\n",
        "# トリミング前の画像の格納先\n",
        "ORIGINAL_FILE_DIR = \"/content/original/\"\n",
        "# トリミング後の画像の格納先\n",
        "TRIMMED_FILE_DIR = \"/content/trimed/\"\n",
        "\n",
        "# 画像パスと、左上座標、右下座標を指定して、トリミングされたimageオブジェクトを返す。\n",
        "def trim(path, left, top, right, bottom):\n",
        "  im = Image.open(path)\n",
        "  im_trimmed = im.crop((left,top,right,bottom))\n",
        "  im_trimmed = ImageOps.invert(im_trimmed.convert('RGB'))\n",
        "  return im_trimmed\n",
        "\n",
        "\n",
        "if __name__ == '__main__':\n",
        "  # もしトリミング後の画像の格納先が存在しなければ作る\n",
        "  if os.path.isdir(TRIMMED_FILE_DIR) == False:\n",
        "    os.makedirs(TRIMMED_FILE_DIR)\n",
        "\n",
        "  # for IPad\n",
        "  # トリミングする左上の座標\n",
        "  left, top = 1650, 550\n",
        "  # トリミングする右上の座標\n",
        "  right, bottom = 1850, 1400\n",
        "\n",
        "  # 画像ファイル名を取得\n",
        "  files = os.listdir(ORIGINAL_FILE_DIR)\n",
        "  # 特定の拡張子のファイルだけを採用。実際に加工するファイルの拡張子に合わせる\n",
        "  files = [name for name in files if name.split(\".\")[-1] in [\"PNG\",\"jpg\"]]\n",
        "\n",
        "  for val in files:\n",
        "    # オリジナル画像へのパス\n",
        "    path = ORIGINAL_FILE_DIR + val\n",
        "    # トリミングされたimageオブジェクトを取得\n",
        "    im_trimmed = trim(path, left, top, right, bottom)\n",
        "    # トリミング後のディレクトリに保存。ファイル名の頭に\"cut_\"をつけている\n",
        "    im_trimmed.save(TRIMMED_FILE_DIR+\"cut_\"+val, quality=95) #qualityは95より大きい値は推奨されていないらしい"
      ],
      "metadata": {
        "id": "Fy7NG2i4KbcS"
      },
      "execution_count": null,
      "outputs": []
    },
    {
      "cell_type": "code",
      "source": [
        "# 正規表現\n",
        "import re"
      ],
      "metadata": {
        "id": "UZIfxc5HgFN1"
      },
      "execution_count": null,
      "outputs": []
    },
    {
      "cell_type": "code",
      "source": [
        "# OCR関連\n",
        "from PIL import ImageFile \n",
        "ImageFile.LOAD_TRUNCATED_IMAGES = True\n",
        "\n",
        "from PIL import Image\n",
        "\n",
        "import pyocr\n",
        "\n",
        "# spreadsheet関連 認証のためのコード\n",
        "from google.colab import auth\n",
        "auth.authenticate_user()\n",
        "\n",
        "import gspread\n",
        "from google.auth import default\n",
        "creds, _ = default()\n",
        "\n",
        "gc = gspread.authorize(creds)\n",
        "\n",
        "# pyocr関連\n",
        "tools = pyocr.get_available_tools()\n",
        "tools\n",
        "tool = tools[0]\n",
        "tool.get_name()"
      ],
      "metadata": {
        "id": "zzeVUpRTBDtE",
        "colab": {
          "base_uri": "https://localhost:8080/",
          "height": 35
        },
        "outputId": "401cb825-31fe-4c18-cabc-1a251ce5b331"
      },
      "execution_count": null,
      "outputs": [
        {
          "output_type": "execute_result",
          "data": {
            "text/plain": [
              "'Tesseract (sh)'"
            ],
            "application/vnd.google.colaboratory.intrinsic+json": {
              "type": "string"
            }
          },
          "metadata": {},
          "execution_count": 4
        }
      ]
    },
    {
      "cell_type": "code",
      "source": [
        "# 現在日時\n",
        "import datetime\n",
        "\n",
        "dt_now = datetime.datetime.now()\n",
        "print(dt_now)"
      ],
      "metadata": {
        "id": "S9OgdYZCv6Gw",
        "colab": {
          "base_uri": "https://localhost:8080/"
        },
        "outputId": "cded468d-5ffd-4d4a-cee5-ab7da15b0fb7"
      },
      "execution_count": null,
      "outputs": [
        {
          "output_type": "stream",
          "name": "stdout",
          "text": [
            "2022-06-16 19:19:58.067455\n"
          ]
        }
      ]
    },
    {
      "cell_type": "code",
      "source": [
        "## スプレッドシートの作成\n",
        "filename = \"RoK_kingdom_power_\" + str(dt_now.year) + \"/\" + str(dt_now.month) + \"/\" + str(dt_now.day)\n",
        "ss = gc.create(filename)\n",
        "print(ss.title)\n",
        "\n",
        "# シートを特定する（シート名で特定）\n",
        "st = ss.worksheet(\"シート1\")"
      ],
      "metadata": {
        "colab": {
          "base_uri": "https://localhost:8080/"
        },
        "id": "J7oOmw9AQjmT",
        "outputId": "8f525706-3d9b-490b-df2e-0d603b9a38f9"
      },
      "execution_count": null,
      "outputs": [
        {
          "output_type": "stream",
          "name": "stdout",
          "text": [
            "RoK_kingdom_power_2022/6/16\n"
          ]
        }
      ]
    },
    {
      "cell_type": "code",
      "source": [
        "# 画像ファイル名を取得\n",
        "files = os.listdir(TRIMMED_FILE_DIR)\n",
        "# 特定の拡張子のファイルだけを採用。実際に加工するファイルの拡張子に合わせる\n",
        "files = [name for name in files if name.split(\".\")[-1] in [\"PNG\",\"jpg\"]]\n",
        "# ソート\n",
        "files.sort()"
      ],
      "metadata": {
        "id": "50bH7EhfCpZB"
      },
      "execution_count": null,
      "outputs": []
    },
    {
      "cell_type": "code",
      "source": [
        "# OCR\n",
        "strlist = []\n",
        "for filename in files:\n",
        "  img = Image.open(TRIMMED_FILE_DIR + filename)\n",
        "  txt = tool.image_to_string(\n",
        "      img,\n",
        "      lang = \"eng\",\n",
        "      builder = pyocr.builders.TextBuilder(tesseract_layout=12)\n",
        "      )\n",
        "  strlist += txt.split(\"\\n\")\n",
        "  print(filename)"
      ],
      "metadata": {
        "id": "dVFlrYiAJjyD"
      },
      "execution_count": null,
      "outputs": []
    },
    {
      "cell_type": "code",
      "source": [
        "strlist"
      ],
      "metadata": {
        "id": "Li6GcEVQMrKu"
      },
      "execution_count": null,
      "outputs": []
    },
    {
      "cell_type": "code",
      "source": [
        "# データ整形\n",
        "arr = []\n",
        "for i in range(len(strlist)):\n",
        "  if not strlist[i]:\n",
        "    pass\n",
        "  else :\n",
        "    arr.append(strlist[i])\n",
        "\n",
        "strlist.clear()\n",
        "\n",
        "\"\"\" リストにするとき\n",
        "for i in range(len(arr) - 1):\n",
        "  if arr[i][0] == \"[\":\n",
        "  # if arr[i][0] != \" \":\n",
        "    strlist.append(arr[i] + \" \" + arr[i + 1])\n",
        "    i += 4\n",
        "\"\"\"\n",
        "\n",
        "pattern = '\\d'\n",
        "for i in range(len(arr)) :\n",
        "  if(re.match(pattern, arr[i][0])):\n",
        "    arr[i] = arr[i].replace(\",\", \"\")\n",
        "    arr[i] = arr[i].replace(\" \", \"\")\n",
        "    #if (int(arr[i]) > 30000000):\n",
        "    strlist.append(arr[i])\n",
        "\n",
        "\"\"\" 1回飛ばし\n",
        "for i in range(len(arr)):\n",
        "  if i % 2 == 0:\n",
        "    strlist.append(str(int(i / 2) + 1) + \" \" + arr[i])\n",
        "\"\"\"\n"
      ],
      "metadata": {
        "id": "30NfZvJ_Ly3c"
      },
      "execution_count": null,
      "outputs": []
    },
    {
      "cell_type": "code",
      "source": [
        "arr"
      ],
      "metadata": {
        "id": "1yO4_csARrTQ"
      },
      "execution_count": null,
      "outputs": []
    },
    {
      "cell_type": "code",
      "source": [
        "strlist"
      ],
      "metadata": {
        "id": "SV5qs57CPhgv"
      },
      "execution_count": null,
      "outputs": []
    },
    {
      "cell_type": "code",
      "source": [
        "print(\"---7の誤検出の修正---\")\n",
        "for k in range(5):\n",
        "  err = []\n",
        "  for i in range(2, len(strlist) - 1):\n",
        "    if(int(strlist[i - 1]) >= int(strlist[i]) and int(strlist[i]) >= int(strlist[i + 1])):\n",
        "      pass\n",
        "    else:\n",
        "      err.append(i)\n",
        "\n",
        "  print(err)\n",
        "\n",
        "  for i in range(len(err)):\n",
        "    if i % 2 == 0:\n",
        "      print(strlist[err[i]])\n",
        "      if(strlist[err[i]][0] == \"1\"):\n",
        "        if(strlist[err[i] - 1][0] == \"7\" or strlist[err[i] + 1][0] == \"7\"):\n",
        "          print(err[i], \" : \", strlist[err[i]], \"->\", \"7\" + strlist[err[i]][1:])\n",
        "          strlist[err[i]] = \"7\" + strlist[err[i]][1:]\n",
        "          \n",
        "\n",
        "print(\"\\n---そのほかの修正---\")\n",
        "if err:\n",
        "  for i in range(len(err)):\n",
        "    if i % 2 == 0:\n",
        "      avg = int((int(strlist[err[i] - 1]) + int(strlist[err[i] + 1])) / 2)\n",
        "      print(err[i], \" : \", strlist[err[i]], \"->\", avg)\n",
        "      strlist[err[i]] = str(avg)"
      ],
      "metadata": {
        "id": "MAr4Ms5CppyE"
      },
      "execution_count": null,
      "outputs": []
    },
    {
      "cell_type": "code",
      "source": [
        "length = len(strlist)\n",
        "length"
      ],
      "metadata": {
        "id": "r288zqG0Ekfo"
      },
      "execution_count": null,
      "outputs": []
    },
    {
      "cell_type": "code",
      "source": [
        "# スプレッドシート書き込みのためにListに格納\n",
        "data = []\n",
        "for i in range(len(strlist)):\n",
        "  data.append([i + 1, strlist[i].strip()])"
      ],
      "metadata": {
        "id": "C3mgCKIPSuww"
      },
      "execution_count": null,
      "outputs": []
    },
    {
      "cell_type": "code",
      "source": [
        "# 総戦力の計算\n",
        "total = 0\n",
        "for i in range(len(strlist)):\n",
        "  total += int(strlist[i])\n",
        "\n",
        "data = [[\"TOTAL\", total]] + data"
      ],
      "metadata": {
        "id": "nxMgKU4S6Abc"
      },
      "execution_count": null,
      "outputs": []
    },
    {
      "cell_type": "code",
      "source": [
        "data"
      ],
      "metadata": {
        "id": "yrP8rFqtS6pd"
      },
      "execution_count": null,
      "outputs": []
    },
    {
      "cell_type": "code",
      "source": [
        "len(data)"
      ],
      "metadata": {
        "id": "DCIF8EfeNxg0"
      },
      "execution_count": null,
      "outputs": []
    },
    {
      "cell_type": "code",
      "source": [
        "# 2次元配列を一括で書き込み\n",
        "\n",
        "ss.values_append(\"シート1\", {\"valueInputOption\": \"USER_ENTERED\"}, {\"values\": data})"
      ],
      "metadata": {
        "id": "wqon_YeGRPiD"
      },
      "execution_count": null,
      "outputs": []
    }
  ]
}